{
 "cells": [
  {
   "cell_type": "code",
   "execution_count": 1,
   "id": "4001b2eb-7287-41f3-bef9-02069155305b",
   "metadata": {},
   "outputs": [],
   "source": [
    "from pyspark.sql import SparkSession\n",
    "from pyspark.ml.stat import Correlation\n",
    "import pyspark.sql.functions as F"
   ]
  },
  {
   "cell_type": "code",
   "execution_count": 2,
   "id": "c68a5c54-2ab3-4aaa-a9b3-6966b6889443",
   "metadata": {},
   "outputs": [],
   "source": [
    "spark= SparkSession.builder.getOrCreate()"
   ]
  },
  {
   "cell_type": "code",
   "execution_count": 3,
   "id": "94ef409c-bae5-4173-829d-4f76e9080214",
   "metadata": {},
   "outputs": [
    {
     "data": {
      "text/html": [
       "<div>\n",
       "<style scoped>\n",
       "    .dataframe tbody tr th:only-of-type {\n",
       "        vertical-align: middle;\n",
       "    }\n",
       "\n",
       "    .dataframe tbody tr th {\n",
       "        vertical-align: top;\n",
       "    }\n",
       "\n",
       "    .dataframe thead th {\n",
       "        text-align: right;\n",
       "    }\n",
       "</style>\n",
       "<table border=\"1\" class=\"dataframe\">\n",
       "  <thead>\n",
       "    <tr style=\"text-align: right;\">\n",
       "      <th></th>\n",
       "      <th>Penduduk</th>\n",
       "      <th>Tahun</th>\n",
       "      <th>Provinsi</th>\n",
       "      <th>RS Pemerintah</th>\n",
       "      <th>RS Swasta</th>\n",
       "      <th>Praktek dokter/ Poliklinik</th>\n",
       "      <th>Puskesmas/ pustu</th>\n",
       "      <th>Praktek nakes</th>\n",
       "      <th>Praktek batra</th>\n",
       "      <th>Dukun bersalin</th>\n",
       "      <th>Lainnya</th>\n",
       "      <th>Jumlah</th>\n",
       "    </tr>\n",
       "  </thead>\n",
       "  <tbody>\n",
       "    <tr>\n",
       "      <th>0</th>\n",
       "      <td>Laki-Laki</td>\n",
       "      <td>2009</td>\n",
       "      <td>Aceh</td>\n",
       "      <td>11.34</td>\n",
       "      <td>1.18</td>\n",
       "      <td>15.19</td>\n",
       "      <td>44.91</td>\n",
       "      <td>21.83</td>\n",
       "      <td>2.06</td>\n",
       "      <td>0.06</td>\n",
       "      <td>3.43</td>\n",
       "      <td>100.0</td>\n",
       "    </tr>\n",
       "    <tr>\n",
       "      <th>1</th>\n",
       "      <td>Laki-Laki</td>\n",
       "      <td>2009</td>\n",
       "      <td>Sumatera Utara</td>\n",
       "      <td>4.45</td>\n",
       "      <td>6.87</td>\n",
       "      <td>22.21</td>\n",
       "      <td>19.07</td>\n",
       "      <td>37.38</td>\n",
       "      <td>4.11</td>\n",
       "      <td>0.26</td>\n",
       "      <td>5.65</td>\n",
       "      <td>100.0</td>\n",
       "    </tr>\n",
       "    <tr>\n",
       "      <th>2</th>\n",
       "      <td>Laki-Laki</td>\n",
       "      <td>2009</td>\n",
       "      <td>Sumatera Barat</td>\n",
       "      <td>7.36</td>\n",
       "      <td>1.64</td>\n",
       "      <td>16.43</td>\n",
       "      <td>31.99</td>\n",
       "      <td>32.53</td>\n",
       "      <td>6.67</td>\n",
       "      <td>0.47</td>\n",
       "      <td>2.92</td>\n",
       "      <td>100.0</td>\n",
       "    </tr>\n",
       "    <tr>\n",
       "      <th>3</th>\n",
       "      <td>Laki-Laki</td>\n",
       "      <td>2009</td>\n",
       "      <td>Riau</td>\n",
       "      <td>9.31</td>\n",
       "      <td>9.63</td>\n",
       "      <td>28.53</td>\n",
       "      <td>33.62</td>\n",
       "      <td>13.52</td>\n",
       "      <td>1.50</td>\n",
       "      <td>0.16</td>\n",
       "      <td>3.72</td>\n",
       "      <td>100.0</td>\n",
       "    </tr>\n",
       "    <tr>\n",
       "      <th>4</th>\n",
       "      <td>Laki-Laki</td>\n",
       "      <td>2009</td>\n",
       "      <td>Jambi</td>\n",
       "      <td>7.69</td>\n",
       "      <td>2.13</td>\n",
       "      <td>23.39</td>\n",
       "      <td>43.89</td>\n",
       "      <td>16.22</td>\n",
       "      <td>2.61</td>\n",
       "      <td>0.06</td>\n",
       "      <td>4.01</td>\n",
       "      <td>100.0</td>\n",
       "    </tr>\n",
       "    <tr>\n",
       "      <th>...</th>\n",
       "      <td>...</td>\n",
       "      <td>...</td>\n",
       "      <td>...</td>\n",
       "      <td>...</td>\n",
       "      <td>...</td>\n",
       "      <td>...</td>\n",
       "      <td>...</td>\n",
       "      <td>...</td>\n",
       "      <td>...</td>\n",
       "      <td>...</td>\n",
       "      <td>...</td>\n",
       "      <td>...</td>\n",
       "    </tr>\n",
       "    <tr>\n",
       "      <th>1045</th>\n",
       "      <td>perempuan</td>\n",
       "      <td>2023</td>\n",
       "      <td>Maluku</td>\n",
       "      <td>9.09</td>\n",
       "      <td>0.69</td>\n",
       "      <td>22.19</td>\n",
       "      <td>5.62</td>\n",
       "      <td>60.25</td>\n",
       "      <td>4.12</td>\n",
       "      <td>0.71</td>\n",
       "      <td>0.73</td>\n",
       "      <td>100.0</td>\n",
       "    </tr>\n",
       "    <tr>\n",
       "      <th>1046</th>\n",
       "      <td>perempuan</td>\n",
       "      <td>2023</td>\n",
       "      <td>Maluku Utara</td>\n",
       "      <td>12.17</td>\n",
       "      <td>0.92</td>\n",
       "      <td>12.92</td>\n",
       "      <td>4.93</td>\n",
       "      <td>59.65</td>\n",
       "      <td>10.31</td>\n",
       "      <td>1.02</td>\n",
       "      <td>0.88</td>\n",
       "      <td>100.0</td>\n",
       "    </tr>\n",
       "    <tr>\n",
       "      <th>1047</th>\n",
       "      <td>perempuan</td>\n",
       "      <td>2023</td>\n",
       "      <td>Papua Barat</td>\n",
       "      <td>12.95</td>\n",
       "      <td>2.32</td>\n",
       "      <td>6.69</td>\n",
       "      <td>7.47</td>\n",
       "      <td>69.00</td>\n",
       "      <td>1.46</td>\n",
       "      <td>0.78</td>\n",
       "      <td>0.90</td>\n",
       "      <td>100.0</td>\n",
       "    </tr>\n",
       "    <tr>\n",
       "      <th>1048</th>\n",
       "      <td>perempuan</td>\n",
       "      <td>2023</td>\n",
       "      <td>Papua</td>\n",
       "      <td>16.41</td>\n",
       "      <td>2.62</td>\n",
       "      <td>4.34</td>\n",
       "      <td>12.41</td>\n",
       "      <td>61.75</td>\n",
       "      <td>1.70</td>\n",
       "      <td>0.15</td>\n",
       "      <td>3.76</td>\n",
       "      <td>100.0</td>\n",
       "    </tr>\n",
       "    <tr>\n",
       "      <th>1049</th>\n",
       "      <td>perempuan</td>\n",
       "      <td>2023</td>\n",
       "      <td>I N D O N E S I A</td>\n",
       "      <td>8.17</td>\n",
       "      <td>8.65</td>\n",
       "      <td>36.46</td>\n",
       "      <td>17.16</td>\n",
       "      <td>29.54</td>\n",
       "      <td>3.27</td>\n",
       "      <td>1.77</td>\n",
       "      <td>1.17</td>\n",
       "      <td>100.0</td>\n",
       "    </tr>\n",
       "  </tbody>\n",
       "</table>\n",
       "<p>1050 rows × 12 columns</p>\n",
       "</div>"
      ],
      "text/plain": [
       "       Penduduk  Tahun           Provinsi  RS Pemerintah  RS Swasta  \\\n",
       "0     Laki-Laki   2009               Aceh          11.34       1.18   \n",
       "1     Laki-Laki   2009     Sumatera Utara           4.45       6.87   \n",
       "2     Laki-Laki   2009     Sumatera Barat           7.36       1.64   \n",
       "3     Laki-Laki   2009               Riau           9.31       9.63   \n",
       "4     Laki-Laki   2009              Jambi           7.69       2.13   \n",
       "...         ...    ...                ...            ...        ...   \n",
       "1045  perempuan   2023             Maluku           9.09       0.69   \n",
       "1046  perempuan   2023       Maluku Utara          12.17       0.92   \n",
       "1047  perempuan   2023        Papua Barat          12.95       2.32   \n",
       "1048  perempuan   2023              Papua          16.41       2.62   \n",
       "1049  perempuan   2023  I N D O N E S I A           8.17       8.65   \n",
       "\n",
       "      Praktek dokter/ Poliklinik  Puskesmas/ pustu  Praktek nakes  \\\n",
       "0                          15.19             44.91          21.83   \n",
       "1                          22.21             19.07          37.38   \n",
       "2                          16.43             31.99          32.53   \n",
       "3                          28.53             33.62          13.52   \n",
       "4                          23.39             43.89          16.22   \n",
       "...                          ...               ...            ...   \n",
       "1045                       22.19              5.62          60.25   \n",
       "1046                       12.92              4.93          59.65   \n",
       "1047                        6.69              7.47          69.00   \n",
       "1048                        4.34             12.41          61.75   \n",
       "1049                       36.46             17.16          29.54   \n",
       "\n",
       "      Praktek batra  Dukun bersalin  Lainnya  Jumlah  \n",
       "0              2.06            0.06     3.43   100.0  \n",
       "1              4.11            0.26     5.65   100.0  \n",
       "2              6.67            0.47     2.92   100.0  \n",
       "3              1.50            0.16     3.72   100.0  \n",
       "4              2.61            0.06     4.01   100.0  \n",
       "...             ...             ...      ...     ...  \n",
       "1045           4.12            0.71     0.73   100.0  \n",
       "1046          10.31            1.02     0.88   100.0  \n",
       "1047           1.46            0.78     0.90   100.0  \n",
       "1048           1.70            0.15     3.76   100.0  \n",
       "1049           3.27            1.77     1.17   100.0  \n",
       "\n",
       "[1050 rows x 12 columns]"
      ]
     },
     "execution_count": 3,
     "metadata": {},
     "output_type": "execute_result"
    }
   ],
   "source": [
    "import pandas as pd\n",
    "pd.read_csv(\"data berobat.csv\")"
   ]
  },
  {
   "cell_type": "code",
   "execution_count": 5,
   "id": "474bbfe3-ebc5-4416-806c-05872fa6e00a",
   "metadata": {},
   "outputs": [],
   "source": [
    "df=spark.read.csv(\"data berobat.csv\", inferSchema=True, header=True)"
   ]
  },
  {
   "cell_type": "code",
   "execution_count": 6,
   "id": "609011cd-6e8b-42f9-b4ba-266cb8cb3c24",
   "metadata": {},
   "outputs": [
    {
     "name": "stdout",
     "output_type": "stream",
     "text": [
      "+---------+-----+--------------------+-------------+---------+--------------------------+----------------+-------------+-------------+--------------+-------+------+\n",
      "| Penduduk|Tahun|            Provinsi|RS Pemerintah|RS Swasta|Praktek dokter/ Poliklinik|Puskesmas/ pustu|Praktek nakes|Praktek batra|Dukun bersalin|Lainnya|Jumlah|\n",
      "+---------+-----+--------------------+-------------+---------+--------------------------+----------------+-------------+-------------+--------------+-------+------+\n",
      "|Laki-Laki| 2009|                Aceh|        11.34|     1.18|                     15.19|           44.91|        21.83|         2.06|          0.06|   3.43|   100|\n",
      "|Laki-Laki| 2009|      Sumatera Utara|         4.45|     6.87|                     22.21|           19.07|        37.38|         4.11|          0.26|   5.65|   100|\n",
      "|Laki-Laki| 2009|      Sumatera Barat|         7.36|     1.64|                     16.43|           31.99|        32.53|         6.67|          0.47|   2.92|   100|\n",
      "|Laki-Laki| 2009|                Riau|         9.31|     9.63|                     28.53|           33.62|        13.52|          1.5|          0.16|   3.72|   100|\n",
      "|Laki-Laki| 2009|               Jambi|         7.69|     2.13|                     23.39|           43.89|        16.22|         2.61|          0.06|   4.01|   100|\n",
      "|Laki-Laki| 2009|    Sumatera Selatan|         7.25|     4.45|                     23.07|           34.82|        25.12|         1.42|           0.8|   3.07|   100|\n",
      "|Laki-Laki| 2009|            Bengkulu|         8.61|     1.98|                     25.83|           28.74|        26.43|         3.35|          0.76|   4.29|   100|\n",
      "|Laki-Laki| 2009|             Lampung|         3.56|     2.81|                     23.66|           25.98|        36.13|         2.64|           1.2|   4.02|   100|\n",
      "|Laki-Laki| 2009|Kepulauan Bangka ...|         5.07|     4.45|                     26.63|           38.06|         19.2|         2.46|           0.0|   4.14|   100|\n",
      "|Laki-Laki| 2009|      Kepulauan Riau|         6.41|     7.54|                     18.48|           55.96|          9.6|         0.25|           0.0|   1.76|   100|\n",
      "|Laki-Laki| 2009|         DKI Jakarta|         6.88|      7.4|                     48.64|           31.11|         1.78|         1.21|          0.17|   2.81|   100|\n",
      "|Laki-Laki| 2009|          Jawa Barat|         4.68|     3.04|                     36.46|           31.59|        20.49|         1.41|          0.14|   2.17|   100|\n",
      "|Laki-Laki| 2009|         Jawa Tengah|         4.88|     2.96|                     29.58|           30.19|        28.09|         1.97|           0.2|   2.15|   100|\n",
      "|Laki-Laki| 2009|       DI Yogyakarta|        10.15|     8.83|                     35.01|           29.64|        13.27|         1.19|           0.0|    1.9|   100|\n",
      "|Laki-Laki| 2009|          Jawa Timur|         6.19|     3.07|                     23.46|           24.17|        38.45|         2.09|          0.35|   2.21|   100|\n",
      "|Laki-Laki| 2009|              Banten|         2.93|     4.56|                     40.26|           26.19|        22.65|         0.82|          0.03|   2.56|   100|\n",
      "|Laki-Laki| 2009|                Bali|         3.92|     3.66|                     42.95|           22.77|        24.23|         1.42|           0.0|   1.05|   100|\n",
      "|Laki-Laki| 2009| Nusa Tenggara Barat|         5.28|     0.46|                     21.32|           38.62|        28.72|         4.18|          0.12|    1.3|   100|\n",
      "|Laki-Laki| 2009| Nusa Tenggara Timur|         6.35|     3.22|                      10.3|           68.45|          5.9|         0.57|          0.24|   4.97|   100|\n",
      "|Laki-Laki| 2009|    Kalimantan Barat|         9.67|     1.71|                     15.56|           38.39|        27.17|         2.41|          0.24|   4.85|   100|\n",
      "+---------+-----+--------------------+-------------+---------+--------------------------+----------------+-------------+-------------+--------------+-------+------+\n",
      "only showing top 20 rows\n",
      "\n"
     ]
    }
   ],
   "source": [
    "df.show()"
   ]
  },
  {
   "cell_type": "code",
   "execution_count": 7,
   "id": "f338631b-96a8-4178-bbfe-4a55006ead4c",
   "metadata": {},
   "outputs": [
    {
     "data": {
      "text/plain": [
       "1050"
      ]
     },
     "execution_count": 7,
     "metadata": {},
     "output_type": "execute_result"
    }
   ],
   "source": [
    "df.count()"
   ]
  },
  {
   "cell_type": "code",
   "execution_count": 8,
   "id": "ee1d1aaf-7ac4-4b6f-b904-53b67642046c",
   "metadata": {},
   "outputs": [
    {
     "data": {
      "text/plain": [
       "12"
      ]
     },
     "execution_count": 8,
     "metadata": {},
     "output_type": "execute_result"
    }
   ],
   "source": [
    "len(df.columns)"
   ]
  },
  {
   "cell_type": "code",
   "execution_count": 9,
   "id": "f063d134-2691-4c25-a624-2ce231af3cce",
   "metadata": {},
   "outputs": [
    {
     "name": "stdout",
     "output_type": "stream",
     "text": [
      "root\n",
      " |-- Penduduk: string (nullable = true)\n",
      " |-- Tahun: integer (nullable = true)\n",
      " |-- Provinsi: string (nullable = true)\n",
      " |-- RS Pemerintah: double (nullable = true)\n",
      " |-- RS Swasta: double (nullable = true)\n",
      " |-- Praktek dokter/ Poliklinik: double (nullable = true)\n",
      " |-- Puskesmas/ pustu: double (nullable = true)\n",
      " |-- Praktek nakes: double (nullable = true)\n",
      " |-- Praktek batra: double (nullable = true)\n",
      " |-- Dukun bersalin: double (nullable = true)\n",
      " |-- Lainnya: double (nullable = true)\n",
      " |-- Jumlah: integer (nullable = true)\n",
      "\n"
     ]
    }
   ],
   "source": [
    "df.printSchema()"
   ]
  },
  {
   "cell_type": "code",
   "execution_count": 10,
   "id": "f4062380-2fa5-40fe-878c-de4d03b747df",
   "metadata": {},
   "outputs": [
    {
     "name": "stdout",
     "output_type": "stream",
     "text": [
      "+-------+---------+-----------------+--------------+------------------+-----------------+--------------------------+------------------+------------------+------------------+------------------+-----------------+------+\n",
      "|summary| Penduduk|            Tahun|      Provinsi|     RS Pemerintah|        RS Swasta|Praktek dokter/ Poliklinik|  Puskesmas/ pustu|     Praktek nakes|     Praktek batra|    Dukun bersalin|          Lainnya|Jumlah|\n",
      "+-------+---------+-----------------+--------------+------------------+-----------------+--------------------------+------------------+------------------+------------------+------------------+-----------------+------+\n",
      "|  count|     1050|             1050|          1050|              1038|             1038|                      1038|              1038|              1038|              1038|              1038|             1038|  1038|\n",
      "|   mean|     NULL|           2016.0|          NULL| 8.469816955684006|4.862466281310218|          28.3562331406551|23.362225433525975|32.327947976878626| 2.967909441233143|1.3178034682080932|1.887504816955684| 100.0|\n",
      "| stddev|     NULL|4.322552647661247|          NULL|3.7126605391420044|3.702560958735613|        12.810804669091038| 16.38067381983863|15.397160107383808|2.5460732265801904|1.1436308013283314|1.396349158172602|   0.0|\n",
      "|    min|Laki-Laki|             2009|          Aceh|              1.88|              0.0|                      2.16|              1.23|              1.29|               0.0|               0.0|              0.0|   100|\n",
      "|    max|perempuan|             2023|Sumatera Utara|             24.01|            23.22|                     64.93|             73.55|             83.06|              17.5|              7.33|            11.77|   100|\n",
      "+-------+---------+-----------------+--------------+------------------+-----------------+--------------------------+------------------+------------------+------------------+------------------+-----------------+------+\n",
      "\n"
     ]
    }
   ],
   "source": [
    "df.describe().show()"
   ]
  },
  {
   "cell_type": "code",
   "execution_count": 11,
   "id": "fd125524-fd67-442d-a19b-b5e6ed3e6824",
   "metadata": {},
   "outputs": [
    {
     "name": "stdout",
     "output_type": "stream",
     "text": [
      "+-------+---------+-----------------+--------------+------------------+-----------------+--------------------------+------------------+------------------+------------------+------------------+-----------------+------+\n",
      "|summary| Penduduk|            Tahun|      Provinsi|     RS Pemerintah|        RS Swasta|Praktek dokter/ Poliklinik|  Puskesmas/ pustu|     Praktek nakes|     Praktek batra|    Dukun bersalin|          Lainnya|Jumlah|\n",
      "+-------+---------+-----------------+--------------+------------------+-----------------+--------------------------+------------------+------------------+------------------+------------------+-----------------+------+\n",
      "|  count|     1050|             1050|          1050|              1038|             1038|                      1038|              1038|              1038|              1038|              1038|             1038|  1038|\n",
      "|   mean|     NULL|           2016.0|          NULL| 8.469816955684006|4.862466281310218|          28.3562331406551|23.362225433525975|32.327947976878626| 2.967909441233143|1.3178034682080932|1.887504816955684| 100.0|\n",
      "| stddev|     NULL|4.322552647661247|          NULL|3.7126605391420044|3.702560958735613|        12.810804669091038| 16.38067381983863|15.397160107383808|2.5460732265801904|1.1436308013283314|1.396349158172602|   0.0|\n",
      "|    min|Laki-Laki|             2009|          Aceh|              1.88|              0.0|                      2.16|              1.23|              1.29|               0.0|               0.0|              0.0|   100|\n",
      "|    max|perempuan|             2023|Sumatera Utara|             24.01|            23.22|                     64.93|             73.55|             83.06|              17.5|              7.33|            11.77|   100|\n",
      "+-------+---------+-----------------+--------------+------------------+-----------------+--------------------------+------------------+------------------+------------------+------------------+-----------------+------+\n",
      "\n"
     ]
    }
   ],
   "source": [
    "df.describe().show()"
   ]
  },
  {
   "cell_type": "code",
   "execution_count": 13,
   "id": "f8631668-5d97-43fe-a652-1040daf30840",
   "metadata": {},
   "outputs": [
    {
     "data": {
      "text/plain": [
       "0.11198789305803722"
      ]
     },
     "execution_count": 13,
     "metadata": {},
     "output_type": "execute_result"
    }
   ],
   "source": [
    "df.corr(\"Tahun\",\"Jumlah\")"
   ]
  },
  {
   "cell_type": "code",
   "execution_count": 14,
   "id": "217c3f17-c282-4644-8382-38a00c93edd7",
   "metadata": {},
   "outputs": [],
   "source": [
    "from pyspark.ml.feature import StringIndexer"
   ]
  },
  {
   "cell_type": "code",
   "execution_count": 15,
   "id": "430e67be-a5a6-4be4-9c43-08ee4b1afdfb",
   "metadata": {},
   "outputs": [
    {
     "name": "stdout",
     "output_type": "stream",
     "text": [
      "root\n",
      " |-- Penduduk: string (nullable = true)\n",
      " |-- Tahun: integer (nullable = true)\n",
      " |-- Provinsi: string (nullable = true)\n",
      " |-- RS Pemerintah: double (nullable = true)\n",
      " |-- RS Swasta: double (nullable = true)\n",
      " |-- Praktek dokter/ Poliklinik: double (nullable = true)\n",
      " |-- Puskesmas/ pustu: double (nullable = true)\n",
      " |-- Praktek nakes: double (nullable = true)\n",
      " |-- Praktek batra: double (nullable = true)\n",
      " |-- Dukun bersalin: double (nullable = true)\n",
      " |-- Lainnya: double (nullable = true)\n",
      " |-- Jumlah: integer (nullable = true)\n",
      "\n"
     ]
    }
   ],
   "source": [
    "df.printSchema()"
   ]
  },
  {
   "cell_type": "code",
   "execution_count": 16,
   "id": "b412f0b8-661e-4897-b214-9f25b717e0c8",
   "metadata": {},
   "outputs": [],
   "source": [
    "indexer = StringIndexer(inputCol=\"Tahun\", outputCol=\"Tahun_cat\")\n",
    "indexed = indexer.fit(df).transform(df)"
   ]
  },
  {
   "cell_type": "code",
   "execution_count": 17,
   "id": "4c411410-60db-4da0-a1ed-b179fcca60bc",
   "metadata": {},
   "outputs": [],
   "source": [
    "indexer = StringIndexer(inputCol=\"Jumlah\", outputCol=\"Jumlah_cat\")\n",
    "indexed = indexer.fit(df).transform(df)"
   ]
  },
  {
   "cell_type": "code",
   "execution_count": 18,
   "id": "6bd5e1e5-1bf1-4f5b-9c82-a4026721378d",
   "metadata": {},
   "outputs": [
    {
     "name": "stdout",
     "output_type": "stream",
     "text": [
      "+---------+-----+--------------------+-------------+---------+--------------------------+----------------+-------------+-------------+--------------+-------+------+----------+\n",
      "| Penduduk|Tahun|            Provinsi|RS Pemerintah|RS Swasta|Praktek dokter/ Poliklinik|Puskesmas/ pustu|Praktek nakes|Praktek batra|Dukun bersalin|Lainnya|Jumlah|Jumlah_cat|\n",
      "+---------+-----+--------------------+-------------+---------+--------------------------+----------------+-------------+-------------+--------------+-------+------+----------+\n",
      "|Laki-Laki| 2009|                Aceh|        11.34|     1.18|                     15.19|           44.91|        21.83|         2.06|          0.06|   3.43|   100|       0.0|\n",
      "|Laki-Laki| 2009|      Sumatera Utara|         4.45|     6.87|                     22.21|           19.07|        37.38|         4.11|          0.26|   5.65|   100|       0.0|\n",
      "|Laki-Laki| 2009|      Sumatera Barat|         7.36|     1.64|                     16.43|           31.99|        32.53|         6.67|          0.47|   2.92|   100|       0.0|\n",
      "|Laki-Laki| 2009|                Riau|         9.31|     9.63|                     28.53|           33.62|        13.52|          1.5|          0.16|   3.72|   100|       0.0|\n",
      "|Laki-Laki| 2009|               Jambi|         7.69|     2.13|                     23.39|           43.89|        16.22|         2.61|          0.06|   4.01|   100|       0.0|\n",
      "|Laki-Laki| 2009|    Sumatera Selatan|         7.25|     4.45|                     23.07|           34.82|        25.12|         1.42|           0.8|   3.07|   100|       0.0|\n",
      "|Laki-Laki| 2009|            Bengkulu|         8.61|     1.98|                     25.83|           28.74|        26.43|         3.35|          0.76|   4.29|   100|       0.0|\n",
      "|Laki-Laki| 2009|             Lampung|         3.56|     2.81|                     23.66|           25.98|        36.13|         2.64|           1.2|   4.02|   100|       0.0|\n",
      "|Laki-Laki| 2009|Kepulauan Bangka ...|         5.07|     4.45|                     26.63|           38.06|         19.2|         2.46|           0.0|   4.14|   100|       0.0|\n",
      "|Laki-Laki| 2009|      Kepulauan Riau|         6.41|     7.54|                     18.48|           55.96|          9.6|         0.25|           0.0|   1.76|   100|       0.0|\n",
      "|Laki-Laki| 2009|         DKI Jakarta|         6.88|      7.4|                     48.64|           31.11|         1.78|         1.21|          0.17|   2.81|   100|       0.0|\n",
      "|Laki-Laki| 2009|          Jawa Barat|         4.68|     3.04|                     36.46|           31.59|        20.49|         1.41|          0.14|   2.17|   100|       0.0|\n",
      "|Laki-Laki| 2009|         Jawa Tengah|         4.88|     2.96|                     29.58|           30.19|        28.09|         1.97|           0.2|   2.15|   100|       0.0|\n",
      "|Laki-Laki| 2009|       DI Yogyakarta|        10.15|     8.83|                     35.01|           29.64|        13.27|         1.19|           0.0|    1.9|   100|       0.0|\n",
      "|Laki-Laki| 2009|          Jawa Timur|         6.19|     3.07|                     23.46|           24.17|        38.45|         2.09|          0.35|   2.21|   100|       0.0|\n",
      "|Laki-Laki| 2009|              Banten|         2.93|     4.56|                     40.26|           26.19|        22.65|         0.82|          0.03|   2.56|   100|       0.0|\n",
      "|Laki-Laki| 2009|                Bali|         3.92|     3.66|                     42.95|           22.77|        24.23|         1.42|           0.0|   1.05|   100|       0.0|\n",
      "|Laki-Laki| 2009| Nusa Tenggara Barat|         5.28|     0.46|                     21.32|           38.62|        28.72|         4.18|          0.12|    1.3|   100|       0.0|\n",
      "|Laki-Laki| 2009| Nusa Tenggara Timur|         6.35|     3.22|                      10.3|           68.45|          5.9|         0.57|          0.24|   4.97|   100|       0.0|\n",
      "|Laki-Laki| 2009|    Kalimantan Barat|         9.67|     1.71|                     15.56|           38.39|        27.17|         2.41|          0.24|   4.85|   100|       0.0|\n",
      "+---------+-----+--------------------+-------------+---------+--------------------------+----------------+-------------+-------------+--------------+-------+------+----------+\n",
      "only showing top 20 rows\n",
      "\n"
     ]
    }
   ],
   "source": [
    "indexed.show()"
   ]
  },
  {
   "cell_type": "code",
   "execution_count": 19,
   "id": "4cea8971-24c7-4e2d-919b-95ab811ff61c",
   "metadata": {},
   "outputs": [],
   "source": [
    "from pyspark.ml.linalg import Vector\n",
    "from pyspark.ml.feature import VectorAssembler"
   ]
  },
  {
   "cell_type": "code",
   "execution_count": 20,
   "id": "3afe0e85-ba80-4076-99bd-4f41c8537f21",
   "metadata": {},
   "outputs": [
    {
     "data": {
      "text/plain": [
       "['Penduduk',\n",
       " 'Tahun',\n",
       " 'Provinsi',\n",
       " 'RS Pemerintah',\n",
       " 'RS Swasta',\n",
       " 'Praktek dokter/ Poliklinik',\n",
       " 'Puskesmas/ pustu',\n",
       " 'Praktek nakes',\n",
       " 'Praktek batra',\n",
       " 'Dukun bersalin',\n",
       " 'Lainnya',\n",
       " 'Jumlah',\n",
       " 'Jumlah_cat']"
      ]
     },
     "execution_count": 20,
     "metadata": {},
     "output_type": "execute_result"
    }
   ],
   "source": [
    "indexed.columns"
   ]
  },
  {
   "cell_type": "code",
   "execution_count": 21,
   "id": "3476c3c7-a80e-485d-a260-39d9ef7b27ec",
   "metadata": {},
   "outputs": [],
   "source": [
    "assembler = VectorAssembler(inputCols=(\"Tahun\",\"RS Pemerintah\",\"RS Swasta\",\"Praktek dokter/ Poliklinik\",\"Jumlah\",\"Jumlah_cat\"),\n",
    "                            outputCol=\"features\")"
   ]
  },
  {
   "cell_type": "code",
   "execution_count": 22,
   "id": "cffc9450-9da5-4aa6-a828-059af9153bf1",
   "metadata": {},
   "outputs": [
    {
     "data": {
      "text/plain": [
       "VectorAssembler_eeda2739111a"
      ]
     },
     "execution_count": 22,
     "metadata": {},
     "output_type": "execute_result"
    }
   ],
   "source": [
    "assembler"
   ]
  },
  {
   "cell_type": "code",
   "execution_count": 23,
   "id": "67f3923d-5b8e-4bc1-adc6-763d23c092c1",
   "metadata": {},
   "outputs": [],
   "source": [
    "output = assembler.transform(indexed)"
   ]
  },
  {
   "cell_type": "code",
   "execution_count": 24,
   "id": "fdfe5a47-bb2a-4a5d-8405-7d574c6232ab",
   "metadata": {},
   "outputs": [
    {
     "name": "stdout",
     "output_type": "stream",
     "text": [
      "+---------+-----+--------------------+-------------+---------+--------------------------+----------------+-------------+-------------+--------------+-------+------+----------+--------------------+\n",
      "| Penduduk|Tahun|            Provinsi|RS Pemerintah|RS Swasta|Praktek dokter/ Poliklinik|Puskesmas/ pustu|Praktek nakes|Praktek batra|Dukun bersalin|Lainnya|Jumlah|Jumlah_cat|            features|\n",
      "+---------+-----+--------------------+-------------+---------+--------------------------+----------------+-------------+-------------+--------------+-------+------+----------+--------------------+\n",
      "|Laki-Laki| 2009|                Aceh|        11.34|     1.18|                     15.19|           44.91|        21.83|         2.06|          0.06|   3.43|   100|       0.0|[2009.0,11.34,1.1...|\n",
      "|Laki-Laki| 2009|      Sumatera Utara|         4.45|     6.87|                     22.21|           19.07|        37.38|         4.11|          0.26|   5.65|   100|       0.0|[2009.0,4.45,6.87...|\n",
      "|Laki-Laki| 2009|      Sumatera Barat|         7.36|     1.64|                     16.43|           31.99|        32.53|         6.67|          0.47|   2.92|   100|       0.0|[2009.0,7.36,1.64...|\n",
      "|Laki-Laki| 2009|                Riau|         9.31|     9.63|                     28.53|           33.62|        13.52|          1.5|          0.16|   3.72|   100|       0.0|[2009.0,9.31,9.63...|\n",
      "|Laki-Laki| 2009|               Jambi|         7.69|     2.13|                     23.39|           43.89|        16.22|         2.61|          0.06|   4.01|   100|       0.0|[2009.0,7.69,2.13...|\n",
      "|Laki-Laki| 2009|    Sumatera Selatan|         7.25|     4.45|                     23.07|           34.82|        25.12|         1.42|           0.8|   3.07|   100|       0.0|[2009.0,7.25,4.45...|\n",
      "|Laki-Laki| 2009|            Bengkulu|         8.61|     1.98|                     25.83|           28.74|        26.43|         3.35|          0.76|   4.29|   100|       0.0|[2009.0,8.61,1.98...|\n",
      "|Laki-Laki| 2009|             Lampung|         3.56|     2.81|                     23.66|           25.98|        36.13|         2.64|           1.2|   4.02|   100|       0.0|[2009.0,3.56,2.81...|\n",
      "|Laki-Laki| 2009|Kepulauan Bangka ...|         5.07|     4.45|                     26.63|           38.06|         19.2|         2.46|           0.0|   4.14|   100|       0.0|[2009.0,5.07,4.45...|\n",
      "|Laki-Laki| 2009|      Kepulauan Riau|         6.41|     7.54|                     18.48|           55.96|          9.6|         0.25|           0.0|   1.76|   100|       0.0|[2009.0,6.41,7.54...|\n",
      "|Laki-Laki| 2009|         DKI Jakarta|         6.88|      7.4|                     48.64|           31.11|         1.78|         1.21|          0.17|   2.81|   100|       0.0|[2009.0,6.88,7.4,...|\n",
      "|Laki-Laki| 2009|          Jawa Barat|         4.68|     3.04|                     36.46|           31.59|        20.49|         1.41|          0.14|   2.17|   100|       0.0|[2009.0,4.68,3.04...|\n",
      "|Laki-Laki| 2009|         Jawa Tengah|         4.88|     2.96|                     29.58|           30.19|        28.09|         1.97|           0.2|   2.15|   100|       0.0|[2009.0,4.88,2.96...|\n",
      "|Laki-Laki| 2009|       DI Yogyakarta|        10.15|     8.83|                     35.01|           29.64|        13.27|         1.19|           0.0|    1.9|   100|       0.0|[2009.0,10.15,8.8...|\n",
      "|Laki-Laki| 2009|          Jawa Timur|         6.19|     3.07|                     23.46|           24.17|        38.45|         2.09|          0.35|   2.21|   100|       0.0|[2009.0,6.19,3.07...|\n",
      "|Laki-Laki| 2009|              Banten|         2.93|     4.56|                     40.26|           26.19|        22.65|         0.82|          0.03|   2.56|   100|       0.0|[2009.0,2.93,4.56...|\n",
      "|Laki-Laki| 2009|                Bali|         3.92|     3.66|                     42.95|           22.77|        24.23|         1.42|           0.0|   1.05|   100|       0.0|[2009.0,3.92,3.66...|\n",
      "|Laki-Laki| 2009| Nusa Tenggara Barat|         5.28|     0.46|                     21.32|           38.62|        28.72|         4.18|          0.12|    1.3|   100|       0.0|[2009.0,5.28,0.46...|\n",
      "|Laki-Laki| 2009| Nusa Tenggara Timur|         6.35|     3.22|                      10.3|           68.45|          5.9|         0.57|          0.24|   4.97|   100|       0.0|[2009.0,6.35,3.22...|\n",
      "|Laki-Laki| 2009|    Kalimantan Barat|         9.67|     1.71|                     15.56|           38.39|        27.17|         2.41|          0.24|   4.85|   100|       0.0|[2009.0,9.67,1.71...|\n",
      "+---------+-----+--------------------+-------------+---------+--------------------------+----------------+-------------+-------------+--------------+-------+------+----------+--------------------+\n",
      "only showing top 20 rows\n",
      "\n"
     ]
    }
   ],
   "source": [
    "output.show()"
   ]
  },
  {
   "cell_type": "code",
   "execution_count": 27,
   "id": "89de4d82-479e-497e-91a9-03d6a6e78f5f",
   "metadata": {},
   "outputs": [
    {
     "name": "stdout",
     "output_type": "stream",
     "text": [
      "+-----------------------------------+-----+\n",
      "|features                           |Tahun|\n",
      "+-----------------------------------+-----+\n",
      "|[2009.0,11.34,1.18,15.19,100.0,0.0]|2009 |\n",
      "|[2009.0,4.45,6.87,22.21,100.0,0.0] |2009 |\n",
      "|[2009.0,7.36,1.64,16.43,100.0,0.0] |2009 |\n",
      "|[2009.0,9.31,9.63,28.53,100.0,0.0] |2009 |\n",
      "|[2009.0,7.69,2.13,23.39,100.0,0.0] |2009 |\n",
      "|[2009.0,7.25,4.45,23.07,100.0,0.0] |2009 |\n",
      "|[2009.0,8.61,1.98,25.83,100.0,0.0] |2009 |\n",
      "|[2009.0,3.56,2.81,23.66,100.0,0.0] |2009 |\n",
      "|[2009.0,5.07,4.45,26.63,100.0,0.0] |2009 |\n",
      "|[2009.0,6.41,7.54,18.48,100.0,0.0] |2009 |\n",
      "|[2009.0,6.88,7.4,48.64,100.0,0.0]  |2009 |\n",
      "|[2009.0,4.68,3.04,36.46,100.0,0.0] |2009 |\n",
      "|[2009.0,4.88,2.96,29.58,100.0,0.0] |2009 |\n",
      "|[2009.0,10.15,8.83,35.01,100.0,0.0]|2009 |\n",
      "|[2009.0,6.19,3.07,23.46,100.0,0.0] |2009 |\n",
      "|[2009.0,2.93,4.56,40.26,100.0,0.0] |2009 |\n",
      "|[2009.0,3.92,3.66,42.95,100.0,0.0] |2009 |\n",
      "|[2009.0,5.28,0.46,21.32,100.0,0.0] |2009 |\n",
      "|[2009.0,6.35,3.22,10.3,100.0,0.0]  |2009 |\n",
      "|[2009.0,9.67,1.71,15.56,100.0,0.0] |2009 |\n",
      "+-----------------------------------+-----+\n",
      "only showing top 20 rows\n",
      "\n"
     ]
    }
   ],
   "source": [
    "output.select(\"features\",\"Tahun\").show(truncate=False)"
   ]
  },
  {
   "cell_type": "code",
   "execution_count": 28,
   "id": "3bd6a648-6850-45ec-b5c6-637762135cef",
   "metadata": {},
   "outputs": [],
   "source": [
    "final_data = output.select(\"features\",\"Tahun\")"
   ]
  },
  {
   "cell_type": "code",
   "execution_count": 45,
   "id": "5848859f-0364-4e43-bfbf-143a089a60a5",
   "metadata": {},
   "outputs": [],
   "source": [
    "from pyspark.ml.regression import LinearRegression"
   ]
  },
  {
   "cell_type": "code",
   "execution_count": 29,
   "id": "72f3ccae-aa29-4b23-ae03-faff7304d5ee",
   "metadata": {},
   "outputs": [
    {
     "name": "stdout",
     "output_type": "stream",
     "text": [
      "+--------------------+-----+\n",
      "|            features|Tahun|\n",
      "+--------------------+-----+\n",
      "|[2009.0,11.34,1.1...| 2009|\n",
      "|[2009.0,4.45,6.87...| 2009|\n",
      "|[2009.0,7.36,1.64...| 2009|\n",
      "|[2009.0,9.31,9.63...| 2009|\n",
      "|[2009.0,7.69,2.13...| 2009|\n",
      "|[2009.0,7.25,4.45...| 2009|\n",
      "|[2009.0,8.61,1.98...| 2009|\n",
      "|[2009.0,3.56,2.81...| 2009|\n",
      "|[2009.0,5.07,4.45...| 2009|\n",
      "|[2009.0,6.41,7.54...| 2009|\n",
      "|[2009.0,6.88,7.4,...| 2009|\n",
      "|[2009.0,4.68,3.04...| 2009|\n",
      "|[2009.0,4.88,2.96...| 2009|\n",
      "|[2009.0,10.15,8.8...| 2009|\n",
      "|[2009.0,6.19,3.07...| 2009|\n",
      "|[2009.0,2.93,4.56...| 2009|\n",
      "|[2009.0,3.92,3.66...| 2009|\n",
      "|[2009.0,5.28,0.46...| 2009|\n",
      "|[2009.0,6.35,3.22...| 2009|\n",
      "|[2009.0,9.67,1.71...| 2009|\n",
      "+--------------------+-----+\n",
      "only showing top 20 rows\n",
      "\n"
     ]
    }
   ],
   "source": [
    "final_data.show()"
   ]
  },
  {
   "cell_type": "code",
   "execution_count": 50,
   "id": "43f06d67-aea7-4be0-ba39-37720d7a969c",
   "metadata": {},
   "outputs": [],
   "source": [
    "train_data, test_data = data.randomSplit([0.8, 0.2], seed=1234)"
   ]
  },
  {
   "cell_type": "code",
   "execution_count": 54,
   "id": "9f4b9a1e-4acb-4ef4-a965-5035e2003240",
   "metadata": {},
   "outputs": [
    {
     "name": "stdout",
     "output_type": "stream",
     "text": [
      "+---------+-----+--------------------+-------------+---------+--------------------------+----------------+-------------+-------------+--------------+-------+------+\n",
      "| Penduduk|Tahun|            Provinsi|RS Pemerintah|RS Swasta|Praktek dokter/ Poliklinik|Puskesmas/ pustu|Praktek nakes|Praktek batra|Dukun bersalin|Lainnya|Jumlah|\n",
      "+---------+-----+--------------------+-------------+---------+--------------------------+----------------+-------------+-------------+--------------+-------+------+\n",
      "|Laki-Laki| 2009|                Aceh|        11.34|     1.18|                     15.19|           44.91|        21.83|         2.06|          0.06|   3.43|   100|\n",
      "|Laki-Laki| 2009|              Banten|         2.93|     4.56|                     40.26|           26.19|        22.65|         0.82|          0.03|   2.56|   100|\n",
      "|Laki-Laki| 2009|            Bengkulu|         8.61|     1.98|                     25.83|           28.74|        26.43|         3.35|          0.76|   4.29|   100|\n",
      "|Laki-Laki| 2009|         DKI Jakarta|         6.88|      7.4|                     48.64|           31.11|         1.78|         1.21|          0.17|   2.81|   100|\n",
      "|Laki-Laki| 2009|           Gorontalo|         3.78|     0.29|                     27.15|           40.32|         19.4|         1.48|          0.35|   7.23|   100|\n",
      "|Laki-Laki| 2009|   I N D O N E S I A|         6.05|     3.55|                     27.93|           32.93|        24.48|         1.95|          0.27|   2.84|   100|\n",
      "|Laki-Laki| 2009|               Jambi|         7.69|     2.13|                     23.39|           43.89|        16.22|         2.61|          0.06|   4.01|   100|\n",
      "|Laki-Laki| 2009|          Jawa Barat|         4.68|     3.04|                     36.46|           31.59|        20.49|         1.41|          0.14|   2.17|   100|\n",
      "|Laki-Laki| 2009|         Jawa Tengah|         4.88|     2.96|                     29.58|           30.19|        28.09|         1.97|           0.2|   2.15|   100|\n",
      "|Laki-Laki| 2009|          Jawa Timur|         6.19|     3.07|                     23.46|           24.17|        38.45|         2.09|          0.35|   2.21|   100|\n",
      "|Laki-Laki| 2009|    Kalimantan Barat|         9.67|     1.71|                     15.56|           38.39|        27.17|         2.41|          0.24|   4.85|   100|\n",
      "|Laki-Laki| 2009|  Kalimantan Selatan|          6.7|     1.26|                      16.9|            39.1|         30.0|         2.73|          0.12|    3.2|   100|\n",
      "|Laki-Laki| 2009|   Kalimantan Tengah|         8.25|     1.28|                     17.27|           49.98|        16.01|         1.74|          0.67|   4.81|   100|\n",
      "|Laki-Laki| 2009|    Kalimantan Timur|        10.32|     7.19|                     28.79|           43.84|         8.06|         0.41|          0.11|   1.28|   100|\n",
      "|Laki-Laki| 2009|    Kalimantan Utara|         NULL|     NULL|                      NULL|            NULL|         NULL|         NULL|          NULL|   NULL|  NULL|\n",
      "|Laki-Laki| 2009|Kepulauan Bangka ...|         5.07|     4.45|                     26.63|           38.06|         19.2|         2.46|           0.0|   4.14|   100|\n",
      "|Laki-Laki| 2009|      Kepulauan Riau|         6.41|     7.54|                     18.48|           55.96|          9.6|         0.25|           0.0|   1.76|   100|\n",
      "|Laki-Laki| 2009|             Lampung|         3.56|     2.81|                     23.66|           25.98|        36.13|         2.64|           1.2|   4.02|   100|\n",
      "|Laki-Laki| 2009|              Maluku|        10.15|     1.74|                     15.61|           55.45|        12.58|         0.12|          0.23|   4.12|   100|\n",
      "|Laki-Laki| 2009| Nusa Tenggara Barat|         5.28|     0.46|                     21.32|           38.62|        28.72|         4.18|          0.12|    1.3|   100|\n",
      "+---------+-----+--------------------+-------------+---------+--------------------------+----------------+-------------+-------------+--------------+-------+------+\n",
      "only showing top 20 rows\n",
      "\n"
     ]
    }
   ],
   "source": [
    "train_data.show()"
   ]
  },
  {
   "cell_type": "code",
   "execution_count": 56,
   "id": "9d8b422f-9ced-45f0-bde0-46c4ab8a1f57",
   "metadata": {},
   "outputs": [
    {
     "name": "stdout",
     "output_type": "stream",
     "text": [
      "+---------+-----+--------------------+-------------+---------+--------------------------+----------------+-------------+-------------+--------------+-------+------+\n",
      "| Penduduk|Tahun|            Provinsi|RS Pemerintah|RS Swasta|Praktek dokter/ Poliklinik|Puskesmas/ pustu|Praktek nakes|Praktek batra|Dukun bersalin|Lainnya|Jumlah|\n",
      "+---------+-----+--------------------+-------------+---------+--------------------------+----------------+-------------+-------------+--------------+-------+------+\n",
      "|Laki-Laki| 2009|                Bali|         3.92|     3.66|                     42.95|           22.77|        24.23|         1.42|           0.0|   1.05|   100|\n",
      "|Laki-Laki| 2009|       DI Yogyakarta|        10.15|     8.83|                     35.01|           29.64|        13.27|         1.19|           0.0|    1.9|   100|\n",
      "|Laki-Laki| 2009|        Maluku Utara|        14.01|     0.42|                     14.35|            53.2|        12.56|         0.42|          0.21|   4.83|   100|\n",
      "|Laki-Laki| 2009|               Papua|        12.52|     3.77|                     12.13|           63.44|         3.52|         0.19|          1.02|   3.41|   100|\n",
      "|Laki-Laki| 2009|         Papua Barat|        12.25|     4.82|                     21.03|           53.04|         6.78|         0.55|           0.0|   1.53|   100|\n",
      "|Laki-Laki| 2009|                Riau|         9.31|     9.63|                     28.53|           33.62|        13.52|          1.5|          0.16|   3.72|   100|\n",
      "|Laki-Laki| 2009|      Sulawesi Barat|         5.96|     0.73|                     15.64|           58.38|        14.26|         1.51|          0.58|   2.94|   100|\n",
      "|Laki-Laki| 2010|                Bali|         6.32|     3.14|                     37.85|           24.35|        22.59|         2.81|          0.05|    2.9|   100|\n",
      "|Laki-Laki| 2010|         Jawa Tengah|         5.32|     3.02|                     29.18|           28.42|        29.89|         2.14|          0.06|   1.97|   100|\n",
      "|Laki-Laki| 2010|    Kalimantan Barat|         8.49|     1.79|                     19.71|           38.61|        25.66|         2.28|          0.07|    3.4|   100|\n",
      "|Laki-Laki| 2010|Kepulauan Bangka ...|        10.96|     4.12|                     19.73|           35.76|        21.53|         4.28|          0.69|   2.93|   100|\n",
      "|Laki-Laki| 2010|        Maluku Utara|        15.71|     1.84|                     12.94|           54.05|        12.81|         0.48|          0.03|   2.14|   100|\n",
      "|Laki-Laki| 2010| Nusa Tenggara Barat|         4.08|     0.67|                     23.14|           43.03|        18.41|         8.36|          0.11|   2.19|   100|\n",
      "|Laki-Laki| 2010| Nusa Tenggara Timur|         6.27|     3.13|                      9.81|           67.04|         8.54|         0.75|          0.09|   4.37|   100|\n",
      "|Laki-Laki| 2010|    Sulawesi Selatan|        10.06|     1.75|                     18.23|           49.65|        16.58|         1.29|          0.11|   2.33|   100|\n",
      "|Laki-Laki| 2010|      Sulawesi Utara|          8.0|     3.09|                     32.22|           29.64|        23.89|         0.58|           0.2|   2.38|   100|\n",
      "|Laki-Laki| 2011|                Bali|         5.53|      2.6|                      34.9|           21.37|        29.27|         4.45|          0.09|    1.8|   100|\n",
      "|Laki-Laki| 2011|              Banten|         4.81|     6.02|                     36.75|           24.17|        20.82|         3.29|          1.24|    2.9|   100|\n",
      "|Laki-Laki| 2011|           Gorontalo|         4.17|     0.38|                     26.22|           37.67|        24.33|         5.59|           0.4|   1.25|   100|\n",
      "|Laki-Laki| 2011|   Kalimantan Tengah|         9.42|     1.06|                     18.23|           49.09|        18.96|         0.81|          0.04|   2.39|   100|\n",
      "+---------+-----+--------------------+-------------+---------+--------------------------+----------------+-------------+-------------+--------------+-------+------+\n",
      "only showing top 20 rows\n",
      "\n"
     ]
    }
   ],
   "source": [
    "test_data.show()"
   ]
  },
  {
   "cell_type": "code",
   "execution_count": 57,
   "id": "e90ed43b-fb76-4f48-982c-13306f66299e",
   "metadata": {},
   "outputs": [],
   "source": [
    "from pyspark.ml.regression import LinearRegression"
   ]
  },
  {
   "cell_type": "code",
   "execution_count": 49,
   "id": "028f88c7-3e01-40a7-be0f-a88e9ed40dcf",
   "metadata": {},
   "outputs": [],
   "source": [
    "lr = LinearRegression(featuresCol=\"features\",\n",
    "                     labelCol=\"Jumlah\")"
   ]
  },
  {
   "cell_type": "code",
   "execution_count": 52,
   "id": "c890f1e9-a57d-4481-8274-db0d6e44bbba",
   "metadata": {},
   "outputs": [],
   "source": [
    "spark = SparkSession.builder.appName(\"data berobat\").getOrCreate()"
   ]
  },
  {
   "cell_type": "code",
   "execution_count": 60,
   "id": "c8718ef5-5193-468a-b379-f7212a6f6d9d",
   "metadata": {},
   "outputs": [
    {
     "name": "stdout",
     "output_type": "stream",
     "text": [
      "+---------+-----+--------------+-------------+---------+--------------------------+----------------+-------------+-------------+--------------+-------+------+\n",
      "| Penduduk|Tahun|      Provinsi|RS Pemerintah|RS Swasta|Praktek dokter/ Poliklinik|Puskesmas/ pustu|Praktek nakes|Praktek batra|Dukun bersalin|Lainnya|Jumlah|\n",
      "+---------+-----+--------------+-------------+---------+--------------------------+----------------+-------------+-------------+--------------+-------+------+\n",
      "|Laki-Laki| 2009|          Aceh|        11.34|     1.18|                     15.19|           44.91|        21.83|         2.06|          0.06|   3.43|   100|\n",
      "|Laki-Laki| 2009|Sumatera Utara|         4.45|     6.87|                     22.21|           19.07|        37.38|         4.11|          0.26|   5.65|   100|\n",
      "|Laki-Laki| 2009|Sumatera Barat|         7.36|     1.64|                     16.43|           31.99|        32.53|         6.67|          0.47|   2.92|   100|\n",
      "|Laki-Laki| 2009|          Riau|         9.31|     9.63|                     28.53|           33.62|        13.52|          1.5|          0.16|   3.72|   100|\n",
      "|Laki-Laki| 2009|         Jambi|         7.69|     2.13|                     23.39|           43.89|        16.22|         2.61|          0.06|   4.01|   100|\n",
      "+---------+-----+--------------+-------------+---------+--------------------------+----------------+-------------+-------------+--------------+-------+------+\n",
      "only showing top 5 rows\n",
      "\n",
      "root\n",
      " |-- Penduduk: string (nullable = true)\n",
      " |-- Tahun: integer (nullable = true)\n",
      " |-- Provinsi: string (nullable = true)\n",
      " |-- RS Pemerintah: double (nullable = true)\n",
      " |-- RS Swasta: double (nullable = true)\n",
      " |-- Praktek dokter/ Poliklinik: double (nullable = true)\n",
      " |-- Puskesmas/ pustu: double (nullable = true)\n",
      " |-- Praktek nakes: double (nullable = true)\n",
      " |-- Praktek batra: double (nullable = true)\n",
      " |-- Dukun bersalin: double (nullable = true)\n",
      " |-- Lainnya: double (nullable = true)\n",
      " |-- Jumlah: integer (nullable = true)\n",
      "\n"
     ]
    }
   ],
   "source": [
    "inflasi_df.show(5)\n",
    "inflasi_df.printSchema()"
   ]
  },
  {
   "cell_type": "code",
   "execution_count": 65,
   "id": "90419ce8-ac9c-44dc-a926-a77709d55083",
   "metadata": {},
   "outputs": [],
   "source": [
    "train_data, test_data = final_data.randomSplit([0.8, 0.2])"
   ]
  },
  {
   "cell_type": "code",
   "execution_count": 5,
   "id": "66d9851c-0562-430e-a420-548619139187",
   "metadata": {},
   "outputs": [],
   "source": [
    "from pyspark.sql import SparkSession\n",
    "from pyspark.ml.feature import VectorAssembler\n",
    "from pyspark.ml.classification import RandomForestClassifier\n",
    "from pyspark.ml.evaluation import BinaryClassificationEvaluator"
   ]
  },
  {
   "cell_type": "code",
   "execution_count": 6,
   "id": "4ec86cc3-02cf-422a-8a0c-7a3683d34be4",
   "metadata": {},
   "outputs": [],
   "source": [
    "spark = SparkSession.builder.appName(\"data berobat.csv\").getOrCreate()"
   ]
  },
  {
   "cell_type": "code",
   "execution_count": 11,
   "id": "f27220cd-734a-4d53-abe0-ecc4e070a3c4",
   "metadata": {},
   "outputs": [],
   "source": [
    "file_path = \"data berobat.csv\"\n",
    "data = spark.read.csv(file_path, header=True, inferSchema=True)\n"
   ]
  },
  {
   "cell_type": "code",
   "execution_count": 12,
   "id": "bb9c72fd-a56f-4d10-8e77-372822ff411e",
   "metadata": {},
   "outputs": [
    {
     "name": "stdout",
     "output_type": "stream",
     "text": [
      "root\n",
      " |-- Penduduk: string (nullable = true)\n",
      " |-- Tahun: integer (nullable = true)\n",
      " |-- Provinsi: string (nullable = true)\n",
      " |-- RS Pemerintah: double (nullable = true)\n",
      " |-- RS Swasta: double (nullable = true)\n",
      " |-- Praktek dokter/ Poliklinik: double (nullable = true)\n",
      " |-- Puskesmas/ pustu: double (nullable = true)\n",
      " |-- Praktek nakes: double (nullable = true)\n",
      " |-- Praktek batra: double (nullable = true)\n",
      " |-- Dukun bersalin: double (nullable = true)\n",
      " |-- Lainnya: double (nullable = true)\n",
      " |-- Jumlah: integer (nullable = true)\n",
      "\n"
     ]
    }
   ],
   "source": [
    "data.printSchema()"
   ]
  },
  {
   "cell_type": "code",
   "execution_count": 30,
   "id": "319243f8-6788-4f3b-89dc-5028479b658a",
   "metadata": {},
   "outputs": [],
   "source": [
    "from pyspark.sql import SparkSession\n",
    "\n",
    "spark = SparkSession.builder.appName(\"YourAppName\").getOrCreate()"
   ]
  },
  {
   "cell_type": "code",
   "execution_count": 84,
   "id": "b844b9f8-1885-4a21-9a01-473d8793ec03",
   "metadata": {},
   "outputs": [],
   "source": [
    "from pyspark.sql import SparkSession\n"
   ]
  },
  {
   "cell_type": "code",
   "execution_count": 85,
   "id": "7833b098-56d1-4d92-becc-c0aa0a4c90a1",
   "metadata": {},
   "outputs": [],
   "source": [
    "spark = SparkSession.builder.appName(\"DataVisualizationExample\").getOrCreate()\n"
   ]
  },
  {
   "cell_type": "code",
   "execution_count": 87,
   "id": "4713dae5-c736-4728-9089-777c87efa78c",
   "metadata": {},
   "outputs": [],
   "source": [
    "dataset_path = 'data berobat.csv'\n",
    "data = spark.read.csv(dataset_path, header=True, inferSchema=True)\n"
   ]
  },
  {
   "cell_type": "code",
   "execution_count": 88,
   "id": "c42457c4-1282-424a-830f-d14666e575be",
   "metadata": {},
   "outputs": [
    {
     "name": "stdout",
     "output_type": "stream",
     "text": [
      "+---------+-----+--------------------+-------------+---------+--------------------------+----------------+-------------+-------------+--------------+-------+------+\n",
      "| Penduduk|Tahun|            Provinsi|RS Pemerintah|RS Swasta|Praktek dokter/ Poliklinik|Puskesmas/ pustu|Praktek nakes|Praktek batra|Dukun bersalin|Lainnya|Jumlah|\n",
      "+---------+-----+--------------------+-------------+---------+--------------------------+----------------+-------------+-------------+--------------+-------+------+\n",
      "|Laki-Laki| 2009|                Aceh|        11.34|     1.18|                     15.19|           44.91|        21.83|         2.06|          0.06|   3.43|   100|\n",
      "|Laki-Laki| 2009|      Sumatera Utara|         4.45|     6.87|                     22.21|           19.07|        37.38|         4.11|          0.26|   5.65|   100|\n",
      "|Laki-Laki| 2009|      Sumatera Barat|         7.36|     1.64|                     16.43|           31.99|        32.53|         6.67|          0.47|   2.92|   100|\n",
      "|Laki-Laki| 2009|                Riau|         9.31|     9.63|                     28.53|           33.62|        13.52|          1.5|          0.16|   3.72|   100|\n",
      "|Laki-Laki| 2009|               Jambi|         7.69|     2.13|                     23.39|           43.89|        16.22|         2.61|          0.06|   4.01|   100|\n",
      "|Laki-Laki| 2009|    Sumatera Selatan|         7.25|     4.45|                     23.07|           34.82|        25.12|         1.42|           0.8|   3.07|   100|\n",
      "|Laki-Laki| 2009|            Bengkulu|         8.61|     1.98|                     25.83|           28.74|        26.43|         3.35|          0.76|   4.29|   100|\n",
      "|Laki-Laki| 2009|             Lampung|         3.56|     2.81|                     23.66|           25.98|        36.13|         2.64|           1.2|   4.02|   100|\n",
      "|Laki-Laki| 2009|Kepulauan Bangka ...|         5.07|     4.45|                     26.63|           38.06|         19.2|         2.46|           0.0|   4.14|   100|\n",
      "|Laki-Laki| 2009|      Kepulauan Riau|         6.41|     7.54|                     18.48|           55.96|          9.6|         0.25|           0.0|   1.76|   100|\n",
      "+---------+-----+--------------------+-------------+---------+--------------------------+----------------+-------------+-------------+--------------+-------+------+\n",
      "only showing top 10 rows\n",
      "\n"
     ]
    }
   ],
   "source": [
    "data.show(10)"
   ]
  },
  {
   "cell_type": "code",
   "execution_count": 89,
   "id": "2db05b23-ec81-4270-a572-0615c77761fc",
   "metadata": {},
   "outputs": [],
   "source": [
    "import matplotlib.pyplot as plt\n",
    "import pandas as pd"
   ]
  },
  {
   "cell_type": "code",
   "execution_count": 97,
   "id": "29d37a80-b179-4d57-9fc6-6ab563f151d0",
   "metadata": {},
   "outputs": [],
   "source": [
    "column_to_visualize = \"Tahun\" "
   ]
  },
  {
   "cell_type": "code",
   "execution_count": 91,
   "id": "a3395cc6-bf7e-43d7-a790-861182ba9f1a",
   "metadata": {},
   "outputs": [],
   "source": [
    "pandas_df = data.select(column_to_visualize).toPandas()"
   ]
  },
  {
   "cell_type": "code",
   "execution_count": 92,
   "id": "c6732e44-95e2-45a3-8577-bcfb9750b62f",
   "metadata": {},
   "outputs": [
    {
     "data": {
      "image/png": "[encoded data removed]",
      "text/plain": [
       "<Figure size 640x480 with 1 Axes>"
      ]
     },
     "metadata": {},
     "output_type": "display_data"
    }
   ],
   "source": [
    "plt.hist(pandas_df[column_to_visualize], bins=20, color='blue', edgecolor='black')\n",
    "plt.xlabel(column_to_visualize)\n",
    "plt.ylabel('Count')\n",
    "plt.title(f'Histogram of {column_to_visualize}')\n",
    "plt.show()"
   ]
  },
  {
   "cell_type": "code",
   "execution_count": 93,
   "id": "a1fa986c-5a32-4e7f-b01c-29bc235330eb",
   "metadata": {},
   "outputs": [],
   "source": [
    "column_to_visualize = \"RS Pemerintah\""
   ]
  },
  {
   "cell_type": "code",
   "execution_count": 94,
   "id": "6ef21997-a3e6-4e77-867a-e1bb943eb832",
   "metadata": {},
   "outputs": [],
   "source": [
    "pandas_df = data.select(column_to_visualize).toPandas()"
   ]
  },
  {
   "cell_type": "code",
   "execution_count": 95,
   "id": "93e31a37-a260-4356-ae59-917d54b34c91",
   "metadata": {},
   "outputs": [
    {
     "data": {
      "image/png": "[encoded data removed]",
      "text/plain": [
       "<Figure size 640x480 with 1 Axes>"
      ]
     },
     "metadata": {},
     "output_type": "display_data"
    }
   ],
   "source": [
    "plt.hist(pandas_df[column_to_visualize], bins=20, color='blue', edgecolor='black')\n",
    "plt.xlabel(column_to_visualize)\n",
    "plt.ylabel('Count')\n",
    "plt.title(f'Histogram of {column_to_visualize}')\n",
    "plt.show()"
   ]
  },
  {
   "cell_type": "code",
   "execution_count": 98,
   "id": "57e599c8-6e61-450a-8005-c0da00dcf3c6",
   "metadata": {},
   "outputs": [],
   "source": [
    "column_to_visualize = \"RS Swasta\""
   ]
  },
  {
   "cell_type": "code",
   "execution_count": 99,
   "id": "59791ca0-5646-42b4-ac87-133b219ca7d4",
   "metadata": {},
   "outputs": [],
   "source": [
    "pandas_df = data.select(column_to_visualize).toPandas()"
   ]
  },
  {
   "cell_type": "code",
   "execution_count": 100,
   "id": "097b9335-95d4-4681-90e8-8b1a98741f0d",
   "metadata": {},
   "outputs": [
    {
     "data": {
      "image/png": "[encoded data removed]",
      "text/plain": [
       "<Figure size 640x480 with 1 Axes>"
      ]
     },
     "metadata": {},
     "output_type": "display_data"
    }
   ],
   "source": [
    "plt.hist(pandas_df[column_to_visualize], bins=20, color='blue', edgecolor='black')\n",
    "plt.xlabel(column_to_visualize)\n",
    "plt.ylabel('Count')\n",
    "plt.title(f'Histogram of {column_to_visualize}')\n",
    "plt.show()"
   ]
  },
  {
   "cell_type": "code",
   "execution_count": 101,
   "id": "a9c7fee8-db97-43fb-a1bd-cafa2383acad",
   "metadata": {},
   "outputs": [],
   "source": [
    "column_to_visualize = \"Penduduk\""
   ]
  },
  {
   "cell_type": "code",
   "execution_count": 102,
   "id": "2db210c7-0c8d-4ba5-9259-0eb51dbfd553",
   "metadata": {},
   "outputs": [],
   "source": [
    "pandas_df = data.select(column_to_visualize).toPandas()"
   ]
  },
  {
   "cell_type": "code",
   "execution_count": 103,
   "id": "b692cd89-f930-4779-bdb7-0d8dbb17dce9",
   "metadata": {},
   "outputs": [
    {
     "data": {
      "image/png": "[encoded data removed]",
      "text/plain": [
       "<Figure size 640x480 with 1 Axes>"
      ]
     },
     "metadata": {},
     "output_type": "display_data"
    }
   ],
   "source": [
    "plt.hist(pandas_df[column_to_visualize], bins=20, color='blue', edgecolor='black')\n",
    "plt.xlabel(column_to_visualize)\n",
    "plt.ylabel('Count')\n",
    "plt.title(f'Histogram of {column_to_visualize}')\n",
    "plt.show()"
   ]
  },
  {
   "cell_type": "code",
   "execution_count": 104,
   "id": "a6f49880-0e17-4a17-ab54-2259dc3a9200",
   "metadata": {},
   "outputs": [],
   "source": [
    "column_to_visualize = \"Provinsi\""
   ]
  },
  {
   "cell_type": "code",
   "execution_count": 105,
   "id": "054d110d-2934-4718-bad1-54236e4595de",
   "metadata": {},
   "outputs": [],
   "source": [
    "pandas_df = data.select(column_to_visualize).toPandas()"
   ]
  },
  {
   "cell_type": "code",
   "execution_count": 106,
   "id": "3754f493-e3ff-4054-a241-6cb55d4b86a9",
   "metadata": {},
   "outputs": [
    {
     "data": {
      "image/png": "[encoded data removed]",
      "text/plain": [
       "<Figure size 640x480 with 1 Axes>"
      ]
     },
     "metadata": {},
     "output_type": "display_data"
    }
   ],
   "source": [
    "plt.hist(pandas_df[column_to_visualize], bins=20, color='blue', edgecolor='black')\n",
    "plt.xlabel(column_to_visualize)\n",
    "plt.ylabel('Count')\n",
    "plt.title(f'Histogram of {column_to_visualize}')\n",
    "plt.show()"
   ]
  },
  {
   "cell_type": "code",
   "execution_count": 107,
   "id": "76c8022f-3102-45f1-b7a1-1850505efaa3",
   "metadata": {},
   "outputs": [],
   "source": [
    "column_to_visualize = \"Praktek dokter/ Poliklinik\""
   ]
  },
  {
   "cell_type": "code",
   "execution_count": 108,
   "id": "b4bace2c-f3c0-4d8e-bad2-5bb7145b2931",
   "metadata": {},
   "outputs": [],
   "source": [
    "pandas_df = data.select(column_to_visualize).toPandas()"
   ]
  },
  {
   "cell_type": "code",
   "execution_count": 109,
   "id": "6c479958-7529-41a8-a371-d72c78c49cd7",
   "metadata": {},
   "outputs": [
    {
     "data": {
      "image/png": "[encoded data removed]",
      "text/plain": [
       "<Figure size 640x480 with 1 Axes>"
      ]
     },
     "metadata": {},
     "output_type": "display_data"
    }
   ],
   "source": [
    "plt.hist(pandas_df[column_to_visualize], bins=20, color='blue', edgecolor='black')\n",
    "plt.xlabel(column_to_visualize)\n",
    "plt.ylabel('Count')\n",
    "plt.title(f'Histogram of {column_to_visualize}')\n",
    "plt.show()"
   ]
  },
  {
   "cell_type": "code",
   "execution_count": 118,
   "id": "a53498f9-db3c-4d11-a8b9-ae50a5a4d455",
   "metadata": {},
   "outputs": [],
   "source": [
    "column_to_visualize = \"Puskesmas/ pustu\""
   ]
  },
  {
   "cell_type": "code",
   "execution_count": 120,
   "id": "7c8f2bd5-4b58-4bf5-8a49-182cae840338",
   "metadata": {},
   "outputs": [],
   "source": [
    "pandas_df = data.select(column_to_visualize).toPandas()"
   ]
  },
  {
   "cell_type": "code",
   "execution_count": 121,
   "id": "95c637e5-43bf-4e0d-8d61-f15d9b9152d7",
   "metadata": {},
   "outputs": [
    {
     "data": {
      "image/png": "[encoded data removed]",
      "text/plain": [
       "<Figure size 640x480 with 1 Axes>"
      ]
     },
     "metadata": {},
     "output_type": "display_data"
    }
   ],
   "source": [
    "plt.hist(pandas_df[column_to_visualize], bins=20, color='blue', edgecolor='black')\n",
    "plt.xlabel(column_to_visualize)\n",
    "plt.ylabel('Count')\n",
    "plt.title(f'Histogram of {column_to_visualize}')\n",
    "plt.show()"
   ]
  },
  {
   "cell_type": "code",
   "execution_count": 122,
   "id": "104e0e8f-cc10-4e0f-9245-575650c3d0ab",
   "metadata": {},
   "outputs": [],
   "source": [
    "column_to_visualize = \"Praktek nakes\""
   ]
  },
  {
   "cell_type": "code",
   "execution_count": 123,
   "id": "f77a4a63-e007-46b3-b584-85118f4151f3",
   "metadata": {},
   "outputs": [],
   "source": [
    "pandas_df = data.select(column_to_visualize).toPandas()"
   ]
  },
  {
   "cell_type": "code",
   "execution_count": 125,
   "id": "8ca1112f-0592-4cd3-b622-1d7b88ec8016",
   "metadata": {},
   "outputs": [
    {
     "data": {
      "image/png": "[encoded data removed]",
      "text/plain": [
       "<Figure size 640x480 with 1 Axes>"
      ]
     },
     "metadata": {},
     "output_type": "display_data"
    }
   ],
   "source": [
    "plt.hist(pandas_df[column_to_visualize], bins=20, color='blue', edgecolor='black')\n",
    "plt.xlabel(column_to_visualize)\n",
    "plt.ylabel('Count')\n",
    "plt.title(f'Histogram of {column_to_visualize}')\n",
    "plt.show()"
   ]
  },
  {
   "cell_type": "code",
   "execution_count": 126,
   "id": "0d58d34f-b088-4d5a-a47c-0b77b0551d53",
   "metadata": {},
   "outputs": [],
   "source": [
    "column_to_visualize = \"Praktek batra\""
   ]
  },
  {
   "cell_type": "code",
   "execution_count": 127,
   "id": "0bf2e7a7-0e38-429a-98ed-5e1b8659782f",
   "metadata": {},
   "outputs": [],
   "source": [
    "pandas_df = data.select(column_to_visualize).toPandas()"
   ]
  },
  {
   "cell_type": "code",
   "execution_count": 128,
   "id": "fc61efdf-dbc3-4641-a234-bf50e1ddc36c",
   "metadata": {},
   "outputs": [
    {
     "data": {
      "image/png": "[encoded data removed]",
      "text/plain": [
       "<Figure size 640x480 with 1 Axes>"
      ]
     },
     "metadata": {},
     "output_type": "display_data"
    }
   ],
   "source": [
    "plt.hist(pandas_df[column_to_visualize], bins=20, color='blue', edgecolor='black')\n",
    "plt.xlabel(column_to_visualize)\n",
    "plt.ylabel('Count')\n",
    "plt.title(f'Histogram of {column_to_visualize}')\n",
    "plt.show()"
   ]
  },
  {
   "cell_type": "code",
   "execution_count": 129,
   "id": "ffca6bd3-43c8-408c-a357-8010788c3988",
   "metadata": {},
   "outputs": [],
   "source": [
    "column_to_visualize = \"Dukun bersalin\""
   ]
  },
  {
   "cell_type": "code",
   "execution_count": 130,
   "id": "3a9fb28a-4980-4f05-bd70-6d1e485de162",
   "metadata": {},
   "outputs": [],
   "source": [
    "pandas_df = data.select(column_to_visualize).toPandas()"
   ]
  },
  {
   "cell_type": "code",
   "execution_count": 131,
   "id": "c65eaddb-3fb5-4ccf-bd22-538393e049c8",
   "metadata": {},
   "outputs": [
    {
     "data": {
      "image/png": "[encoded data removed]",
      "text/plain": [
       "<Figure size 640x480 with 1 Axes>"
      ]
     },
     "metadata": {},
     "output_type": "display_data"
    }
   ],
   "source": [
    "plt.hist(pandas_df[column_to_visualize], bins=20, color='blue', edgecolor='black')\n",
    "plt.xlabel(column_to_visualize)\n",
    "plt.ylabel('Count')\n",
    "plt.title(f'Histogram of {column_to_visualize}')\n",
    "plt.show()"
   ]
  },
  {
   "cell_type": "code",
   "execution_count": 132,
   "id": "15e351b0-9779-4228-9adb-1237b4515af2",
   "metadata": {},
   "outputs": [],
   "source": [
    "column_to_visualize = \"Lainnya\""
   ]
  },
  {
   "cell_type": "code",
   "execution_count": 133,
   "id": "5593989a-d500-4dab-8d9c-29c1423013b0",
   "metadata": {},
   "outputs": [],
   "source": [
    "pandas_df = data.select(column_to_visualize).toPandas()"
   ]
  },
  {
   "cell_type": "code",
   "execution_count": 134,
   "id": "44b8e747-46d3-4d5e-a4be-7068223e7c7c",
   "metadata": {},
   "outputs": [
    {
     "data": {
      "image/png": "[encoded data removed]",
      "text/plain": [
       "<Figure size 640x480 with 1 Axes>"
      ]
     },
     "metadata": {},
     "output_type": "display_data"
    }
   ],
   "source": [
    "plt.hist(pandas_df[column_to_visualize], bins=20, color='blue', edgecolor='black')\n",
    "plt.xlabel(column_to_visualize)\n",
    "plt.ylabel('Count')\n",
    "plt.title(f'Histogram of {column_to_visualize}')\n",
    "plt.show()"
   ]
  },
  {
   "cell_type": "code",
   "execution_count": 135,
   "id": "29f2f306-8aa3-49f8-bae1-7a2ed8281781",
   "metadata": {},
   "outputs": [],
   "source": [
    "column_to_visualize = \"Lainnya\""
   ]
  },
  {
   "cell_type": "code",
   "execution_count": 136,
   "id": "95d7da59-0d82-4e6e-a21d-4e0cc4ba5b2e",
   "metadata": {},
   "outputs": [],
   "source": [
    "pandas_df = data.select(column_to_visualize).toPandas()"
   ]
  },
  {
   "cell_type": "code",
   "execution_count": 137,
   "id": "99f090ff-75f7-46f1-883a-2aded32a0441",
   "metadata": {},
   "outputs": [
    {
     "data": {
      "image/png": "[encoded data removed]",
      "text/plain": [
       "<Figure size 640x480 with 1 Axes>"
      ]
     },
     "metadata": {},
     "output_type": "display_data"
    }
   ],
   "source": [
    "plt.hist(pandas_df[column_to_visualize], bins=20, color='blue', edgecolor='black')\n",
    "plt.xlabel(column_to_visualize)\n",
    "plt.ylabel('Count')\n",
    "plt.title(f'Histogram of {column_to_visualize}')\n",
    "plt.show()"
   ]
  },
  {
   "cell_type": "code",
   "execution_count": null,
   "id": "06cbf0cb-c7ea-4649-823c-1602e25d3473",
   "metadata": {},
   "outputs": [],
   "source": []
  }
 ],
 "metadata": {
  "kernelspec": {
   "display_name": "Python 3 (ipykernel)",
   "language": "python",
   "name": "python3"
  },
  "language_info": {
   "codemirror_mode": {
    "name": "ipython",
    "version": 3
   },
   "file_extension": ".py",
   "mimetype": "text/x-python",
   "name": "python",
   "nbconvert_exporter": "python",
   "pygments_lexer": "ipython3",
   "version": "3.12.0"
  }
 },
 "nbformat": 4,
 "nbformat_minor": 5
}
